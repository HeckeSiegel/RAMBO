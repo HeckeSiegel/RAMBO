{
 "cells": [
  {
   "cell_type": "code",
   "execution_count": 1,
   "metadata": {},
   "outputs": [],
   "source": [
    "import findspark\n",
    "findspark.init()\n",
    "\n",
    "import time as t\n",
    "from pyspark.sql import SparkSession\n",
    "from pyspark.sql import SQLContext\n",
    "from pyspark.streaming import StreamingContext\n",
    "from pyspark.sql import functions as F\n",
    "from pyspark.sql.types import *\n",
    "import datetime\n",
    "import sys\n",
    "from lib import sparkStructuredStreaming\n",
    "import os\n",
    "%matplotlib inline\n",
    "from matplotlib import pyplot as plt\n",
    "from pyspark.sql.window import Window\n",
    "import math as m"
   ]
  },
  {
   "cell_type": "markdown",
   "metadata": {},
   "source": [
    "### Set-up to stream from Kafka topic + read and write from/to Elasticsearch"
   ]
  },
  {
   "cell_type": "code",
   "execution_count": 2,
   "metadata": {},
   "outputs": [],
   "source": [
    "os.environ['PYSPARK_SUBMIT_ARGS'] = '--packages org.apache.spark:spark-sql-kafka-0-10_2.11:2.4.5,org.elasticsearch:elasticsearch-spark-20_2.11:7.6.2 pyspark-shell'"
   ]
  },
  {
   "cell_type": "code",
   "execution_count": 3,
   "metadata": {},
   "outputs": [],
   "source": [
    "#\"127.0.0.1:9092\" (local) //\"10.0.0.8:9092\" (BACC)\n",
    "bootstrap = \"127.0.0.1:9092\""
   ]
  },
  {
   "cell_type": "code",
   "execution_count": 4,
   "metadata": {},
   "outputs": [],
   "source": [
    "spark = SparkSession \\\n",
    "            .builder \\\n",
    "            .appName(\"KafkaIEXStructuredStreaming\") \\\n",
    "            .master(\"local[*]\") \\\n",
    "            .getOrCreate()\n",
    "\n",
    "sqlContext = SQLContext(spark)"
   ]
  },
  {
   "cell_type": "markdown",
   "metadata": {},
   "source": [
    "## 1. Backtesting"
   ]
  },
  {
   "cell_type": "markdown",
   "metadata": {},
   "source": [
    "### 1.1 Try different strategies"
   ]
  },
  {
   "cell_type": "code",
   "execution_count": 6,
   "metadata": {},
   "outputs": [
    {
     "name": "stdout",
     "output_type": "stream",
     "text": [
      "[*********************100%***********************]  1 of 1 completed\n",
      "[*********************100%***********************]  2 of 2 completed\n",
      "[*********************100%***********************]  3 of 3 completed\n",
      "[*********************100%***********************]  4 of 4 completed\n",
      "[*********************100%***********************]  5 of 5 completed\n"
     ]
    }
   ],
   "source": [
    "b = sparkStructuredStreaming.backtest()\n",
    "\n",
    "#strategy looks at last 10,120,500... minutes to calculate average\n",
    "strategy_momentum = [\"1d\",\"momentum\",10,30,60,120,180]\n",
    "# mean reverse strategy\n",
    "rsi_buy = 15\n",
    "rsi_sell = 60\n",
    "ibr_buy = 0.2\n",
    "ibr_sell = 0.7 \n",
    "strategy_mean_reverse = [\"mean_reverse\",rsi_buy,rsi_sell,ibr_buy,ibr_sell,3,5,8,10,14,20]\n",
    "# granularity of historical data\n",
    "interval_momentum=\"1m\"\n",
    "interval_mean_reverse = \"1d\"\n",
    "hdfs_path = \"hdfs://0.0.0.0:19000\"\n",
    "#start capital\n",
    "startCap = 10000.0\n",
    "# regulatory trading fee\n",
    "commission = 0.002\n",
    "# risk free market return, assumed here 0.1% but is not really clear\n",
    "risk_free = 0.001\n",
    "# parameters to find stock symbols\n",
    "symbol = None\n",
    "n_stock = [2,3,4,5]\n",
    "\n",
    "performance = b.performance(startCap, commission, risk_free, \\\n",
    "                            strategy_momentum[1:], interval_momentum, strategy_momentum[0], \\\n",
    "                            symbol, n_stock, \\\n",
    "                            hdfs_path, sqlContext)"
   ]
  },
  {
   "cell_type": "code",
   "execution_count": 7,
   "metadata": {},
   "outputs": [
    {
     "name": "stdout",
     "output_type": "stream",
     "text": [
      "+-------+--------+-----+----+-------------+-------+----------+----------+------+--------------------+------------------+\n",
      "|DepotId|   Value|Alpha|Beta|Start-Capital| Profit|Start-Date|  End-Date|Trades|Performance_Strategy|Performance_S&P500|\n",
      "+-------+--------+-----+----+-------------+-------+----------+----------+------+--------------------+------------------+\n",
      "|      1|10031.25|  0.1|1.05|      10000.0|  31.25|2020-05-19|2020-05-19|    59|                0.31|               0.2|\n",
      "|      2| 9923.51|-1.01|1.21|      10000.0| -76.49|2020-05-19|2020-05-19|    27|               -0.76|               0.2|\n",
      "|      3| 9840.73|-1.87|1.37|      10000.0|-159.27|2020-05-19|2020-05-19|    35|               -1.59|               0.2|\n",
      "|      4| 9757.78|-2.69|1.36|      10000.0|-242.22|2020-05-19|2020-05-19|    33|               -2.42|               0.2|\n",
      "|      5| 9757.78|-2.69|1.36|      10000.0|-242.22|2020-05-19|2020-05-19|    33|               -2.42|               0.2|\n",
      "|      6|10045.83| 0.02|2.22|      10000.0|  45.83|2020-05-19|2020-05-19|     5|                0.46|               0.2|\n",
      "|      7| 10032.0| 0.12|0.97|      10000.0|   32.0|2020-05-19|2020-05-19|    52|                0.32|               0.2|\n",
      "|      8| 9949.65|-0.72|1.07|      10000.0| -50.35|2020-05-19|2020-05-19|    27|                -0.5|               0.2|\n",
      "|      9| 9892.17|-1.32|1.21|      10000.0|-107.83|2020-05-19|2020-05-19|    40|               -1.08|               0.2|\n",
      "|     10| 9783.15|-2.41|1.22|      10000.0|-216.85|2020-05-19|2020-05-19|    32|               -2.17|               0.2|\n",
      "|     11| 9783.15|-2.41|1.22|      10000.0|-216.85|2020-05-19|2020-05-19|    32|               -2.17|               0.2|\n",
      "|     12|10040.26| 0.01|1.98|      10000.0|  40.26|2020-05-19|2020-05-19|     3|                 0.4|               0.2|\n",
      "|     13|10043.15| 0.23|0.99|      10000.0|  43.15|2020-05-19|2020-05-19|   111|                0.43|               0.2|\n",
      "|     14|10053.52| 0.33|1.02|      10000.0|  53.52|2020-05-19|2020-05-19|    63|                0.54|               0.2|\n",
      "|     15| 9975.04|-0.44|0.97|      10000.0| -24.96|2020-05-19|2020-05-19|    62|               -0.25|               0.2|\n",
      "|     16| 9946.18|-0.73|0.95|      10000.0| -53.82|2020-05-19|2020-05-19|    52|               -0.54|               0.2|\n",
      "|     17| 9968.63| -0.5|0.92|      10000.0| -31.37|2020-05-19|2020-05-19|    38|               -0.31|               0.2|\n",
      "|     18| 10037.0| 0.01|1.83|      10000.0|   37.0|2020-05-19|2020-05-19|     4|                0.37|               0.2|\n",
      "|     19| 10035.7| 0.16|0.98|      10000.0|   35.7|2020-05-19|2020-05-19|   101|                0.36|               0.2|\n",
      "|     20|10013.23|-0.07|1.03|      10000.0|  13.23|2020-05-19|2020-05-19|    61|                0.13|               0.2|\n",
      "|     21| 9952.78|-0.66|0.94|      10000.0| -47.22|2020-05-19|2020-05-19|    75|               -0.47|               0.2|\n",
      "|     22| 9923.05|-0.96|0.93|      10000.0| -76.95|2020-05-19|2020-05-19|    63|               -0.77|               0.2|\n",
      "|     23| 9941.67|-0.76| 0.9|      10000.0| -58.33|2020-05-19|2020-05-19|    53|               -0.58|               0.2|\n",
      "|     24|10028.65|-0.09|1.91|      10000.0|  28.65|2020-05-19|2020-05-19|     7|                0.29|               0.2|\n",
      "|     25|10019.09| -0.0|0.97|      10000.0|  19.09|2020-05-19|2020-05-19|   154|                0.19|               0.2|\n",
      "|     26|10007.88|-0.12|1.01|      10000.0|   7.88|2020-05-19|2020-05-19|    96|                0.08|               0.2|\n",
      "|     27| 9978.51|-0.43|1.09|      10000.0| -21.49|2020-05-19|2020-05-19|   108|               -0.21|               0.2|\n",
      "|     28| 9927.81|-0.91|0.95|      10000.0| -72.19|2020-05-19|2020-05-19|    79|               -0.72|               0.2|\n",
      "|     29| 9950.77|-0.68|0.91|      10000.0| -49.23|2020-05-19|2020-05-19|    62|               -0.49|               0.2|\n",
      "|     30|10062.98| 0.29|1.74|      10000.0|  62.98|2020-05-19|2020-05-19|     9|                0.63|               0.2|\n",
      "|     31|10028.52| 0.09|0.98|      10000.0|  28.52|2020-05-19|2020-05-19|   149|                0.29|               0.2|\n",
      "|     32|10009.36|-0.11|1.03|      10000.0|   9.36|2020-05-19|2020-05-19|    96|                0.09|               0.2|\n",
      "|     33| 9968.54|-0.54|1.11|      10000.0| -31.46|2020-05-19|2020-05-19|   113|               -0.31|               0.2|\n",
      "|     34| 9919.92|-0.99|0.95|      10000.0| -80.08|2020-05-19|2020-05-19|    88|                -0.8|               0.2|\n",
      "|     35| 9946.35|-0.72|0.91|      10000.0| -53.65|2020-05-19|2020-05-19|    72|               -0.54|               0.2|\n",
      "|     36|10039.28| 0.03|1.85|      10000.0|  39.28|2020-05-19|2020-05-19|    10|                0.39|               0.2|\n",
      "|     37|10059.85| 0.39|1.04|      10000.0|  59.85|2020-05-19|2020-05-19|   217|                 0.6|               0.2|\n",
      "|     38|  9952.0|-0.71|1.14|      10000.0|  -48.0|2020-05-19|2020-05-19|   125|               -0.48|               0.2|\n",
      "|     39| 9976.11|-0.46|1.11|      10000.0| -23.89|2020-05-19|2020-05-19|   122|               -0.24|               0.2|\n",
      "|     40| 9970.97|-0.48|0.96|      10000.0| -29.03|2020-05-19|2020-05-19|    96|               -0.29|               0.2|\n",
      "|     41| 9960.26|-0.58|0.91|      10000.0| -39.74|2020-05-19|2020-05-19|    76|                -0.4|               0.2|\n",
      "|     42| 10106.3|  0.7|1.83|      10000.0|  106.3|2020-05-19|2020-05-19|     9|                1.06|               0.2|\n",
      "|     43|10044.34| 0.24|0.99|      10000.0|  44.34|2020-05-19|2020-05-19|   202|                0.44|               0.2|\n",
      "|     44| 9967.03|-0.54|1.07|      10000.0| -32.97|2020-05-19|2020-05-19|   128|               -0.33|               0.2|\n",
      "|     45| 9973.26|-0.49| 1.1|      10000.0| -26.74|2020-05-19|2020-05-19|   125|               -0.27|               0.2|\n",
      "|     46| 9960.05|-0.59|0.97|      10000.0| -39.95|2020-05-19|2020-05-19|    93|                -0.4|               0.2|\n",
      "|     47| 9956.97|-0.61|0.91|      10000.0| -43.03|2020-05-19|2020-05-19|    74|               -0.43|               0.2|\n",
      "|     48|10081.66| 0.45|1.84|      10000.0|  81.66|2020-05-19|2020-05-19|     9|                0.82|               0.2|\n",
      "+-------+--------+-----+----+-------------+-------+----------+----------+------+--------------------+------------------+\n",
      "\n"
     ]
    }
   ],
   "source": [
    "hdfs_path = \"hdfs://0.0.0.0:19000\"\n",
    "df_performance = sqlContext.read.format('parquet').load(hdfs_path+\"/performance\").orderBy(\"DepotId\")\n",
    "df_performance.show(200)"
   ]
  },
  {
   "cell_type": "code",
   "execution_count": 8,
   "metadata": {},
   "outputs": [
    {
     "name": "stdout",
     "output_type": "stream",
     "text": [
      "+-------+-------------+------------+-------------------------+----------------------------------------------------------------------------------------+\n",
      "|DepotId|Start-Caputal|Strategy    |ISIN                     |Share                                                                                   |\n",
      "+-------+-------------+------------+-------------------------+----------------------------------------------------------------------------------------+\n",
      "|1      |10000.0      |momentum10  |[MHK, FLR]               |[0.5, 0.5]                                                                              |\n",
      "|2      |10000.0      |momentum30  |[MHK, FLR]               |[0.5, 0.5]                                                                              |\n",
      "|3      |10000.0      |momentum60  |[MHK, FLR]               |[0.5, 0.5]                                                                              |\n",
      "|4      |10000.0      |momentum120 |[MHK, FLR]               |[0.5, 0.5]                                                                              |\n",
      "|5      |10000.0      |momentum180 |[MHK, FLR]               |[0.5, 0.5]                                                                              |\n",
      "|6      |10000.0      |Buy and Hold|[MHK, FLR]               |[0.5, 0.5]                                                                              |\n",
      "|7      |10000.0      |momentum10  |[MHK, FLR]               |[0.6666666666666666, 0.3333333333333333]                                                |\n",
      "|8      |10000.0      |momentum30  |[MHK, FLR]               |[0.6666666666666666, 0.3333333333333333]                                                |\n",
      "|9      |10000.0      |momentum60  |[MHK, FLR]               |[0.6666666666666666, 0.3333333333333333]                                                |\n",
      "|10     |10000.0      |momentum120 |[MHK, FLR]               |[0.6666666666666666, 0.3333333333333333]                                                |\n",
      "|11     |10000.0      |momentum180 |[MHK, FLR]               |[0.6666666666666666, 0.3333333333333333]                                                |\n",
      "|12     |10000.0      |Buy and Hold|[MHK, FLR]               |[0.6666666666666666, 0.3333333333333333]                                                |\n",
      "|13     |10000.0      |momentum10  |[MHK, FLR, NRG]          |[0.3333333333333333, 0.3333333333333333, 0.33333333333333337]                           |\n",
      "|14     |10000.0      |momentum30  |[MHK, FLR, NRG]          |[0.3333333333333333, 0.3333333333333333, 0.33333333333333337]                           |\n",
      "|15     |10000.0      |momentum60  |[MHK, FLR, NRG]          |[0.3333333333333333, 0.3333333333333333, 0.33333333333333337]                           |\n",
      "|16     |10000.0      |momentum120 |[MHK, FLR, NRG]          |[0.3333333333333333, 0.3333333333333333, 0.33333333333333337]                           |\n",
      "|17     |10000.0      |momentum180 |[MHK, FLR, NRG]          |[0.3333333333333333, 0.3333333333333333, 0.33333333333333337]                           |\n",
      "|18     |10000.0      |Buy and Hold|[MHK, FLR, NRG]          |[0.3333333333333333, 0.3333333333333333, 0.33333333333333337]                           |\n",
      "|19     |10000.0      |momentum10  |[MHK, FLR, NRG]          |[0.5, 0.3333333333333333, 0.16666666666666666]                                          |\n",
      "|20     |10000.0      |momentum30  |[MHK, FLR, NRG]          |[0.5, 0.3333333333333333, 0.16666666666666666]                                          |\n",
      "|21     |10000.0      |momentum60  |[MHK, FLR, NRG]          |[0.5, 0.3333333333333333, 0.16666666666666666]                                          |\n",
      "|22     |10000.0      |momentum120 |[MHK, FLR, NRG]          |[0.5, 0.3333333333333333, 0.16666666666666666]                                          |\n",
      "|23     |10000.0      |momentum180 |[MHK, FLR, NRG]          |[0.5, 0.3333333333333333, 0.16666666666666666]                                          |\n",
      "|24     |10000.0      |Buy and Hold|[MHK, FLR, NRG]          |[0.5, 0.3333333333333333, 0.16666666666666666]                                          |\n",
      "|25     |10000.0      |momentum10  |[MHK, FLR, NRG, VNO]     |[0.25, 0.25, 0.25, 0.25]                                                                |\n",
      "|26     |10000.0      |momentum30  |[MHK, FLR, NRG, VNO]     |[0.25, 0.25, 0.25, 0.25]                                                                |\n",
      "|27     |10000.0      |momentum60  |[MHK, FLR, NRG, VNO]     |[0.25, 0.25, 0.25, 0.25]                                                                |\n",
      "|28     |10000.0      |momentum120 |[MHK, FLR, NRG, VNO]     |[0.25, 0.25, 0.25, 0.25]                                                                |\n",
      "|29     |10000.0      |momentum180 |[MHK, FLR, NRG, VNO]     |[0.25, 0.25, 0.25, 0.25]                                                                |\n",
      "|30     |10000.0      |Buy and Hold|[MHK, FLR, NRG, VNO]     |[0.25, 0.25, 0.25, 0.25]                                                                |\n",
      "|31     |10000.0      |momentum10  |[MHK, FLR, NRG, VNO]     |[0.4, 0.3, 0.2, 0.1]                                                                    |\n",
      "|32     |10000.0      |momentum30  |[MHK, FLR, NRG, VNO]     |[0.4, 0.3, 0.2, 0.1]                                                                    |\n",
      "|33     |10000.0      |momentum60  |[MHK, FLR, NRG, VNO]     |[0.4, 0.3, 0.2, 0.1]                                                                    |\n",
      "|34     |10000.0      |momentum120 |[MHK, FLR, NRG, VNO]     |[0.4, 0.3, 0.2, 0.1]                                                                    |\n",
      "|35     |10000.0      |momentum180 |[MHK, FLR, NRG, VNO]     |[0.4, 0.3, 0.2, 0.1]                                                                    |\n",
      "|36     |10000.0      |Buy and Hold|[MHK, FLR, NRG, VNO]     |[0.4, 0.3, 0.2, 0.1]                                                                    |\n",
      "|37     |10000.0      |momentum10  |[MHK, FLR, NRG, VNO, MGM]|[0.2, 0.2, 0.2, 0.2, 0.19999999999999996]                                               |\n",
      "|38     |10000.0      |momentum30  |[MHK, FLR, NRG, VNO, MGM]|[0.2, 0.2, 0.2, 0.2, 0.19999999999999996]                                               |\n",
      "|39     |10000.0      |momentum60  |[MHK, FLR, NRG, VNO, MGM]|[0.2, 0.2, 0.2, 0.2, 0.19999999999999996]                                               |\n",
      "|40     |10000.0      |momentum120 |[MHK, FLR, NRG, VNO, MGM]|[0.2, 0.2, 0.2, 0.2, 0.19999999999999996]                                               |\n",
      "|41     |10000.0      |momentum180 |[MHK, FLR, NRG, VNO, MGM]|[0.2, 0.2, 0.2, 0.2, 0.19999999999999996]                                               |\n",
      "|42     |10000.0      |Buy and Hold|[MHK, FLR, NRG, VNO, MGM]|[0.2, 0.2, 0.2, 0.2, 0.19999999999999996]                                               |\n",
      "|43     |10000.0      |momentum10  |[MHK, FLR, NRG, VNO, MGM]|[0.3333333333333333, 0.26666666666666666, 0.2, 0.13333333333333333, 0.06666666666666667]|\n",
      "|44     |10000.0      |momentum30  |[MHK, FLR, NRG, VNO, MGM]|[0.3333333333333333, 0.26666666666666666, 0.2, 0.13333333333333333, 0.06666666666666667]|\n",
      "|45     |10000.0      |momentum60  |[MHK, FLR, NRG, VNO, MGM]|[0.3333333333333333, 0.26666666666666666, 0.2, 0.13333333333333333, 0.06666666666666667]|\n",
      "|46     |10000.0      |momentum120 |[MHK, FLR, NRG, VNO, MGM]|[0.3333333333333333, 0.26666666666666666, 0.2, 0.13333333333333333, 0.06666666666666667]|\n",
      "|47     |10000.0      |momentum180 |[MHK, FLR, NRG, VNO, MGM]|[0.3333333333333333, 0.26666666666666666, 0.2, 0.13333333333333333, 0.06666666666666667]|\n",
      "|48     |10000.0      |Buy and Hold|[MHK, FLR, NRG, VNO, MGM]|[0.3333333333333333, 0.26666666666666666, 0.2, 0.13333333333333333, 0.06666666666666667]|\n",
      "+-------+-------------+------------+-------------------------+----------------------------------------------------------------------------------------+\n",
      "\n"
     ]
    }
   ],
   "source": [
    "df_depot = sqlContext.read.format('parquet').load(hdfs_path+\"/depot\")\n",
    "df_depot.orderBy(\"DepotId\").show(200, truncate=False)"
   ]
  },
  {
   "cell_type": "markdown",
   "metadata": {},
   "source": [
    "## 2. Trading Simulation / Performance Evaluation with realtime Streams (Spark Streaming)"
   ]
  },
  {
   "cell_type": "markdown",
   "metadata": {},
   "source": [
    "### Stream real time quotes from Kafka topic"
   ]
  },
  {
   "cell_type": "code",
   "execution_count": 5,
   "metadata": {},
   "outputs": [
    {
     "name": "stdout",
     "output_type": "stream",
     "text": [
      "2020-05-14 15:32:36 9999.999524 10013.43286\n",
      "2020-05-14 15:33:59 10001.299524000002 10016.42286\n",
      "2020-05-14 15:35:09 10008.359524 10027.41286\n",
      "2020-05-14 15:35:24 10008.359524 10038.66286\n",
      "2020-05-14 15:37:45 10008.359524 10047.70286\n",
      "2020-05-14 15:38:10 10008.359524 10042.442860000001\n"
     ]
    },
    {
     "ename": "KeyboardInterrupt",
     "evalue": "",
     "output_type": "error",
     "traceback": [
      "\u001b[1;31m---------------------------------------------------------------------------\u001b[0m",
      "\u001b[1;31mKeyboardInterrupt\u001b[0m                         Traceback (most recent call last)",
      "\u001b[1;32m<ipython-input-5-e1522578a8c7>\u001b[0m in \u001b[0;36m<module>\u001b[1;34m\u001b[0m\n\u001b[0;32m     11\u001b[0m \u001b[1;33m\u001b[0m\u001b[0m\n\u001b[0;32m     12\u001b[0m \u001b[1;33m\u001b[0m\u001b[0m\n\u001b[1;32m---> 13\u001b[1;33m \u001b[0mr\u001b[0m\u001b[1;33m.\u001b[0m\u001b[0mrealtime\u001b[0m\u001b[1;33m(\u001b[0m\u001b[0msymbol\u001b[0m\u001b[1;33m,\u001b[0m \u001b[0mshare\u001b[0m\u001b[1;33m,\u001b[0m \u001b[0mstartCap\u001b[0m\u001b[1;33m,\u001b[0m \u001b[0mcommission\u001b[0m\u001b[1;33m,\u001b[0m \u001b[0mmomentum_str\u001b[0m\u001b[1;33m,\u001b[0m \u001b[0mindex\u001b[0m\u001b[1;33m,\u001b[0m \u001b[0msqlContext\u001b[0m\u001b[1;33m)\u001b[0m\u001b[1;33m\u001b[0m\u001b[1;33m\u001b[0m\u001b[0m\n\u001b[0m",
      "\u001b[1;32m~\\RAMBO\\kafka_spark_python\\lib\\sparkStructuredStreaming.py\u001b[0m in \u001b[0;36mrealtime\u001b[1;34m(self, symbol, share, startCap, commission, strategy, index, sqlContext)\u001b[0m\n\u001b[0;32m   1014\u001b[0m             \u001b[1;31m# update depot and stocksOwned in loop until break\u001b[0m\u001b[1;33m\u001b[0m\u001b[1;33m\u001b[0m\u001b[1;33m\u001b[0m\u001b[0m\n\u001b[0;32m   1015\u001b[0m             depot_strategy = self.realtime_loop(value, datetime, moneyForInvesting_list, moneyInStocks_list, stocksOwned,\\\n\u001b[1;32m-> 1016\u001b[1;33m                                            trades_total, symbol, share, commission, strategy, sqlContext)\n\u001b[0m\u001b[0;32m   1017\u001b[0m             depot_b = self.realtime_loop(value_b, datetime_b, moneyForInvesting_list_b, moneyInStocks_list_b, stocksOwned_b,\\\n\u001b[0;32m   1018\u001b[0m                                       trades_total_b, symbol, share, commission, strategy_b, sqlContext)\n",
      "\u001b[1;32m~\\RAMBO\\kafka_spark_python\\lib\\sparkStructuredStreaming.py\u001b[0m in \u001b[0;36mrealtime_loop\u001b[1;34m(self, value, datetime, moneyForInvesting_list, moneyInStocks_list, stocksOwned, trades_total, symbol, share, commission, strategy, sqlContext)\u001b[0m\n\u001b[0;32m    979\u001b[0m             \u001b[1;31m# filter out right symbol, get latest price\u001b[0m\u001b[1;33m\u001b[0m\u001b[1;33m\u001b[0m\u001b[1;33m\u001b[0m\u001b[0m\n\u001b[0;32m    980\u001b[0m             \u001b[0mdf_pos\u001b[0m \u001b[1;33m=\u001b[0m \u001b[0mstrategy\u001b[0m\u001b[1;33m[\u001b[0m\u001b[1;36m0\u001b[0m\u001b[1;33m]\u001b[0m\u001b[1;33m(\u001b[0m\u001b[0mdf\u001b[0m\u001b[1;33m,\u001b[0m \u001b[0msymbol\u001b[0m\u001b[1;33m[\u001b[0m\u001b[0mi\u001b[0m\u001b[1;33m]\u001b[0m\u001b[1;33m,\u001b[0m\u001b[0mstrategy\u001b[0m\u001b[1;33m[\u001b[0m\u001b[1;36m2\u001b[0m\u001b[1;33m]\u001b[0m\u001b[1;33m)\u001b[0m\u001b[1;33m\u001b[0m\u001b[1;33m\u001b[0m\u001b[0m\n\u001b[1;32m--> 981\u001b[1;33m             \u001b[0mrows\u001b[0m \u001b[1;33m=\u001b[0m \u001b[0mdf_pos\u001b[0m\u001b[1;33m.\u001b[0m\u001b[0mcollect\u001b[0m\u001b[1;33m(\u001b[0m\u001b[1;33m)\u001b[0m\u001b[1;33m[\u001b[0m\u001b[1;36m0\u001b[0m\u001b[1;33m]\u001b[0m\u001b[1;33m\u001b[0m\u001b[1;33m\u001b[0m\u001b[0m\n\u001b[0m\u001b[0;32m    982\u001b[0m             \u001b[1;31m# only proceed if there is a new stock price available\u001b[0m\u001b[1;33m\u001b[0m\u001b[1;33m\u001b[0m\u001b[1;33m\u001b[0m\u001b[0m\n\u001b[0;32m    983\u001b[0m             \u001b[1;32mif\u001b[0m\u001b[1;33m(\u001b[0m\u001b[0mdate\u001b[0m \u001b[1;32mis\u001b[0m \u001b[1;32mnot\u001b[0m \u001b[0mrows\u001b[0m\u001b[1;33m.\u001b[0m\u001b[0mDatetime\u001b[0m\u001b[1;33m)\u001b[0m\u001b[1;33m:\u001b[0m\u001b[1;33m\u001b[0m\u001b[1;33m\u001b[0m\u001b[0m\n",
      "\u001b[1;32mc:\\spark\\python\\pyspark\\sql\\dataframe.py\u001b[0m in \u001b[0;36mcollect\u001b[1;34m(self)\u001b[0m\n\u001b[0;32m    532\u001b[0m         \"\"\"\n\u001b[0;32m    533\u001b[0m         \u001b[1;32mwith\u001b[0m \u001b[0mSCCallSiteSync\u001b[0m\u001b[1;33m(\u001b[0m\u001b[0mself\u001b[0m\u001b[1;33m.\u001b[0m\u001b[0m_sc\u001b[0m\u001b[1;33m)\u001b[0m \u001b[1;32mas\u001b[0m \u001b[0mcss\u001b[0m\u001b[1;33m:\u001b[0m\u001b[1;33m\u001b[0m\u001b[1;33m\u001b[0m\u001b[0m\n\u001b[1;32m--> 534\u001b[1;33m             \u001b[0msock_info\u001b[0m \u001b[1;33m=\u001b[0m \u001b[0mself\u001b[0m\u001b[1;33m.\u001b[0m\u001b[0m_jdf\u001b[0m\u001b[1;33m.\u001b[0m\u001b[0mcollectToPython\u001b[0m\u001b[1;33m(\u001b[0m\u001b[1;33m)\u001b[0m\u001b[1;33m\u001b[0m\u001b[1;33m\u001b[0m\u001b[0m\n\u001b[0m\u001b[0;32m    535\u001b[0m         \u001b[1;32mreturn\u001b[0m \u001b[0mlist\u001b[0m\u001b[1;33m(\u001b[0m\u001b[0m_load_from_socket\u001b[0m\u001b[1;33m(\u001b[0m\u001b[0msock_info\u001b[0m\u001b[1;33m,\u001b[0m \u001b[0mBatchedSerializer\u001b[0m\u001b[1;33m(\u001b[0m\u001b[0mPickleSerializer\u001b[0m\u001b[1;33m(\u001b[0m\u001b[1;33m)\u001b[0m\u001b[1;33m)\u001b[0m\u001b[1;33m)\u001b[0m\u001b[1;33m)\u001b[0m\u001b[1;33m\u001b[0m\u001b[1;33m\u001b[0m\u001b[0m\n\u001b[0;32m    536\u001b[0m \u001b[1;33m\u001b[0m\u001b[0m\n",
      "\u001b[1;32mc:\\spark\\python\\lib\\py4j-0.10.7-src.zip\\py4j\\java_gateway.py\u001b[0m in \u001b[0;36m__call__\u001b[1;34m(self, *args)\u001b[0m\n\u001b[0;32m   1253\u001b[0m             \u001b[0mproto\u001b[0m\u001b[1;33m.\u001b[0m\u001b[0mEND_COMMAND_PART\u001b[0m\u001b[1;33m\u001b[0m\u001b[1;33m\u001b[0m\u001b[0m\n\u001b[0;32m   1254\u001b[0m \u001b[1;33m\u001b[0m\u001b[0m\n\u001b[1;32m-> 1255\u001b[1;33m         \u001b[0manswer\u001b[0m \u001b[1;33m=\u001b[0m \u001b[0mself\u001b[0m\u001b[1;33m.\u001b[0m\u001b[0mgateway_client\u001b[0m\u001b[1;33m.\u001b[0m\u001b[0msend_command\u001b[0m\u001b[1;33m(\u001b[0m\u001b[0mcommand\u001b[0m\u001b[1;33m)\u001b[0m\u001b[1;33m\u001b[0m\u001b[1;33m\u001b[0m\u001b[0m\n\u001b[0m\u001b[0;32m   1256\u001b[0m         return_value = get_return_value(\n\u001b[0;32m   1257\u001b[0m             answer, self.gateway_client, self.target_id, self.name)\n",
      "\u001b[1;32mc:\\spark\\python\\lib\\py4j-0.10.7-src.zip\\py4j\\java_gateway.py\u001b[0m in \u001b[0;36msend_command\u001b[1;34m(self, command, retry, binary)\u001b[0m\n\u001b[0;32m    983\u001b[0m         \u001b[0mconnection\u001b[0m \u001b[1;33m=\u001b[0m \u001b[0mself\u001b[0m\u001b[1;33m.\u001b[0m\u001b[0m_get_connection\u001b[0m\u001b[1;33m(\u001b[0m\u001b[1;33m)\u001b[0m\u001b[1;33m\u001b[0m\u001b[1;33m\u001b[0m\u001b[0m\n\u001b[0;32m    984\u001b[0m         \u001b[1;32mtry\u001b[0m\u001b[1;33m:\u001b[0m\u001b[1;33m\u001b[0m\u001b[1;33m\u001b[0m\u001b[0m\n\u001b[1;32m--> 985\u001b[1;33m             \u001b[0mresponse\u001b[0m \u001b[1;33m=\u001b[0m \u001b[0mconnection\u001b[0m\u001b[1;33m.\u001b[0m\u001b[0msend_command\u001b[0m\u001b[1;33m(\u001b[0m\u001b[0mcommand\u001b[0m\u001b[1;33m)\u001b[0m\u001b[1;33m\u001b[0m\u001b[1;33m\u001b[0m\u001b[0m\n\u001b[0m\u001b[0;32m    986\u001b[0m             \u001b[1;32mif\u001b[0m \u001b[0mbinary\u001b[0m\u001b[1;33m:\u001b[0m\u001b[1;33m\u001b[0m\u001b[1;33m\u001b[0m\u001b[0m\n\u001b[0;32m    987\u001b[0m                 \u001b[1;32mreturn\u001b[0m \u001b[0mresponse\u001b[0m\u001b[1;33m,\u001b[0m \u001b[0mself\u001b[0m\u001b[1;33m.\u001b[0m\u001b[0m_create_connection_guard\u001b[0m\u001b[1;33m(\u001b[0m\u001b[0mconnection\u001b[0m\u001b[1;33m)\u001b[0m\u001b[1;33m\u001b[0m\u001b[1;33m\u001b[0m\u001b[0m\n",
      "\u001b[1;32mc:\\spark\\python\\lib\\py4j-0.10.7-src.zip\\py4j\\java_gateway.py\u001b[0m in \u001b[0;36msend_command\u001b[1;34m(self, command)\u001b[0m\n\u001b[0;32m   1150\u001b[0m \u001b[1;33m\u001b[0m\u001b[0m\n\u001b[0;32m   1151\u001b[0m         \u001b[1;32mtry\u001b[0m\u001b[1;33m:\u001b[0m\u001b[1;33m\u001b[0m\u001b[1;33m\u001b[0m\u001b[0m\n\u001b[1;32m-> 1152\u001b[1;33m             \u001b[0manswer\u001b[0m \u001b[1;33m=\u001b[0m \u001b[0msmart_decode\u001b[0m\u001b[1;33m(\u001b[0m\u001b[0mself\u001b[0m\u001b[1;33m.\u001b[0m\u001b[0mstream\u001b[0m\u001b[1;33m.\u001b[0m\u001b[0mreadline\u001b[0m\u001b[1;33m(\u001b[0m\u001b[1;33m)\u001b[0m\u001b[1;33m[\u001b[0m\u001b[1;33m:\u001b[0m\u001b[1;33m-\u001b[0m\u001b[1;36m1\u001b[0m\u001b[1;33m]\u001b[0m\u001b[1;33m)\u001b[0m\u001b[1;33m\u001b[0m\u001b[1;33m\u001b[0m\u001b[0m\n\u001b[0m\u001b[0;32m   1153\u001b[0m             \u001b[0mlogger\u001b[0m\u001b[1;33m.\u001b[0m\u001b[0mdebug\u001b[0m\u001b[1;33m(\u001b[0m\u001b[1;34m\"Answer received: {0}\"\u001b[0m\u001b[1;33m.\u001b[0m\u001b[0mformat\u001b[0m\u001b[1;33m(\u001b[0m\u001b[0manswer\u001b[0m\u001b[1;33m)\u001b[0m\u001b[1;33m)\u001b[0m\u001b[1;33m\u001b[0m\u001b[1;33m\u001b[0m\u001b[0m\n\u001b[0;32m   1154\u001b[0m             \u001b[1;32mif\u001b[0m \u001b[0manswer\u001b[0m\u001b[1;33m.\u001b[0m\u001b[0mstartswith\u001b[0m\u001b[1;33m(\u001b[0m\u001b[0mproto\u001b[0m\u001b[1;33m.\u001b[0m\u001b[0mRETURN_MESSAGE\u001b[0m\u001b[1;33m)\u001b[0m\u001b[1;33m:\u001b[0m\u001b[1;33m\u001b[0m\u001b[1;33m\u001b[0m\u001b[0m\n",
      "\u001b[1;32m~\\anaconda\\lib\\socket.py\u001b[0m in \u001b[0;36mreadinto\u001b[1;34m(self, b)\u001b[0m\n\u001b[0;32m    587\u001b[0m         \u001b[1;32mwhile\u001b[0m \u001b[1;32mTrue\u001b[0m\u001b[1;33m:\u001b[0m\u001b[1;33m\u001b[0m\u001b[1;33m\u001b[0m\u001b[0m\n\u001b[0;32m    588\u001b[0m             \u001b[1;32mtry\u001b[0m\u001b[1;33m:\u001b[0m\u001b[1;33m\u001b[0m\u001b[1;33m\u001b[0m\u001b[0m\n\u001b[1;32m--> 589\u001b[1;33m                 \u001b[1;32mreturn\u001b[0m \u001b[0mself\u001b[0m\u001b[1;33m.\u001b[0m\u001b[0m_sock\u001b[0m\u001b[1;33m.\u001b[0m\u001b[0mrecv_into\u001b[0m\u001b[1;33m(\u001b[0m\u001b[0mb\u001b[0m\u001b[1;33m)\u001b[0m\u001b[1;33m\u001b[0m\u001b[1;33m\u001b[0m\u001b[0m\n\u001b[0m\u001b[0;32m    590\u001b[0m             \u001b[1;32mexcept\u001b[0m \u001b[0mtimeout\u001b[0m\u001b[1;33m:\u001b[0m\u001b[1;33m\u001b[0m\u001b[1;33m\u001b[0m\u001b[0m\n\u001b[0;32m    591\u001b[0m                 \u001b[0mself\u001b[0m\u001b[1;33m.\u001b[0m\u001b[0m_timeout_occurred\u001b[0m \u001b[1;33m=\u001b[0m \u001b[1;32mTrue\u001b[0m\u001b[1;33m\u001b[0m\u001b[1;33m\u001b[0m\u001b[0m\n",
      "\u001b[1;31mKeyboardInterrupt\u001b[0m: "
     ]
    }
   ],
   "source": [
    "r = sparkStructuredStreaming.realtime()\n",
    "\n",
    "# same set up as in backtesting\n",
    "symbol, share = # todo: use the ibes which performed best in backtesting\n",
    "\n",
    "startCap = 10000.0\n",
    "commission = 0.000119\n",
    "index = \"trading\"\n",
    "# choose momentum which worked best in backtesting\n",
    "momentum_str = [r.momentum,\"momentum\",10]\n",
    "\n",
    "\n",
    "r.realtime(symbol, share, startCap, commission, momentum_str, index, sqlContext)"
   ]
  }
 ],
 "metadata": {
  "kernelspec": {
   "display_name": "Python 3",
   "language": "python",
   "name": "python3"
  },
  "language_info": {
   "codemirror_mode": {
    "name": "ipython",
    "version": 3
   },
   "file_extension": ".py",
   "mimetype": "text/x-python",
   "name": "python",
   "nbconvert_exporter": "python",
   "pygments_lexer": "ipython3",
   "version": "3.7.6"
  }
 },
 "nbformat": 4,
 "nbformat_minor": 4
}
