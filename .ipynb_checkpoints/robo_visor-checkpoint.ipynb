{
 "cells": [
  {
   "cell_type": "code",
   "execution_count": 1,
   "metadata": {},
   "outputs": [],
   "source": [
    "import findspark\n",
    "findspark.init()\n",
    "\n",
    "import time as t\n",
    "from pyspark.sql import SparkSession\n",
    "from pyspark.sql import SQLContext\n",
    "from pyspark.streaming import StreamingContext\n",
    "from pyspark.sql import functions as F\n",
    "from pyspark.sql.types import *\n",
    "import datetime\n",
    "import sys\n",
    "from lib import sparkStructuredStreaming\n",
    "import os\n",
    "%matplotlib inline\n",
    "from matplotlib import pyplot as plt\n",
    "from pyspark.sql.window import Window\n",
    "import math as m"
   ]
  },
  {
   "cell_type": "markdown",
   "metadata": {},
   "source": [
    "### Set-up to stream from Kafka topic + read and write from/to Elasticsearch"
   ]
  },
  {
   "cell_type": "code",
   "execution_count": 2,
   "metadata": {},
   "outputs": [],
   "source": [
    "os.environ['PYSPARK_SUBMIT_ARGS'] = '--packages org.apache.spark:spark-sql-kafka-0-10_2.11:2.4.5,org.elasticsearch:elasticsearch-spark-20_2.11:7.6.2 pyspark-shell'"
   ]
  },
  {
   "cell_type": "code",
   "execution_count": 3,
   "metadata": {},
   "outputs": [],
   "source": [
    "#\"127.0.0.1:9092\" (local) //\"10.0.0.8:9092\" (BACC)\n",
    "bootstrap = \"127.0.0.1:9092\""
   ]
  },
  {
   "cell_type": "code",
   "execution_count": 5,
   "metadata": {},
   "outputs": [],
   "source": [
    "spark = SparkSession \\\n",
    "            .builder \\\n",
    "            .appName(\"KafkaIEXStructuredStreaming\") \\\n",
    "            .master(\"local[*]\") \\\n",
    "            .getOrCreate()\n",
    "\n",
    "sqlContext = SQLContext(spark)"
   ]
  },
  {
   "cell_type": "markdown",
   "metadata": {},
   "source": [
    "## 1. Backtesting"
   ]
  },
  {
   "cell_type": "markdown",
   "metadata": {},
   "source": [
    "### 1.1 Try different strategies"
   ]
  },
  {
   "cell_type": "code",
   "execution_count": null,
   "metadata": {},
   "outputs": [
    {
     "name": "stdout",
     "output_type": "stream",
     "text": [
      "[*********************100%***********************]  456 of 456 completed\n"
     ]
    }
   ],
   "source": [
    "b = sparkStructuredStreaming.backtest()\n",
    "\n",
    "#strategy looks at last 10,120,500... minutes to calculate average\n",
    "strategy_momentum = [\"1d\",\"momentum\",10,30,60,120,180]\n",
    "# mean reverse strategy\n",
    "rsi_buy = 15\n",
    "rsi_sell = 60\n",
    "ibr_buy = 0.2\n",
    "ibr_sell = 0.7 \n",
    "strategy_mean_reverse = [\"mean_reverse\",rsi_buy,rsi_sell,ibr_buy,ibr_sell,3,5,8,10,14,20]\n",
    "# granularity of historical data\n",
    "interval_momentum=\"1m\"\n",
    "interval_mean_reverse = \"1d\"\n",
    "hdfs_path = \"hdfs://0.0.0.0:19000\"\n",
    "#start capital\n",
    "startCap = 10000.0\n",
    "# regulatory trading fee\n",
    "commission = 0.002\n",
    "# risk free market return, assumed here 0.1% but is not really clear\n",
    "risk_free = 0.001\n",
    "# parameters to find stock symbols\n",
    "symbol = None\n",
    "n_stock = [1,2,3,4,5]\n",
    "\n",
    "performance = b.performance(startCap, commission, risk_free, \\\n",
    "                            strategy_momentum[1:], interval_momentum, strategy_momentum[0], \\\n",
    "                            symbol, n_stock, \\\n",
    "                            hdfs_path, sqlContext)"
   ]
  },
  {
   "cell_type": "code",
   "execution_count": 6,
   "metadata": {},
   "outputs": [
    {
     "name": "stdout",
     "output_type": "stream",
     "text": [
      "+-------+--------+-----+----+-------------+------+----------+----------+------+--------------------+------------------+\n",
      "|DepotId|   Value|Alpha|Beta|Start-Capital|Profit|Start-Date|  End-Date|Trades|Performance_Strategy|Performance_S&P500|\n",
      "+-------+--------+-----+----+-------------+------+----------+----------+------+--------------------+------------------+\n",
      "|      1| 10503.4|  4.4|1.01|      10000.0| 503.4|2020-05-18|2020-05-18|    27|                5.03|              0.63|\n",
      "|      2| 10778.2| 7.05|1.17|      10000.0| 778.2|2020-05-18|2020-05-18|     9|                7.78|              0.63|\n",
      "|      3|10817.27| 7.27|1.43|      10000.0|817.27|2020-05-18|2020-05-18|     5|                8.17|              0.63|\n",
      "|      4|10990.08| 8.96|1.49|      10000.0|990.08|2020-05-18|2020-05-18|     1|                 9.9|              0.63|\n",
      "|      5| 10503.4|  4.4|1.01|      10000.0| 503.4|2020-05-18|2020-05-18|    27|                5.03|              0.63|\n",
      "|      6| 10778.2| 7.05|1.17|      10000.0| 778.2|2020-05-18|2020-05-18|     9|                7.78|              0.63|\n",
      "|      7|10817.27| 7.27|1.43|      10000.0|817.27|2020-05-18|2020-05-18|     5|                8.17|              0.63|\n",
      "|      8|10990.08| 8.96|1.49|      10000.0|990.08|2020-05-18|2020-05-18|     1|                 9.9|              0.63|\n",
      "|      9|10423.78| 3.64|0.95|      10000.0|423.78|2020-05-18|2020-05-18|   102|                4.24|              0.63|\n",
      "|     10|10728.88| 6.57|1.15|      10000.0|728.88|2020-05-18|2020-05-18|    37|                7.29|              0.63|\n",
      "|     11|10768.45| 6.79|1.42|      10000.0|768.45|2020-05-18|2020-05-18|    23|                7.68|              0.63|\n",
      "|     12|10418.64| 3.35|1.33|      10000.0|418.64|2020-05-18|2020-05-18|     3|                4.19|              0.63|\n",
      "|     13|10450.71| 3.89|0.98|      10000.0|450.71|2020-05-18|2020-05-18|    87|                4.51|              0.63|\n",
      "|     14|10748.31| 6.75|1.16|      10000.0|748.31|2020-05-18|2020-05-18|    28|                7.48|              0.63|\n",
      "|     15|10783.89| 6.94|1.42|      10000.0|783.89|2020-05-18|2020-05-18|    18|                7.84|              0.63|\n",
      "|     16|10609.81| 5.23|1.39|      10000.0|609.81|2020-05-18|2020-05-18|     3|                 6.1|              0.63|\n",
      "+-------+--------+-----+----+-------------+------+----------+----------+------+--------------------+------------------+\n",
      "\n"
     ]
    }
   ],
   "source": [
    "hdfs_path = \"hdfs://0.0.0.0:19000\"\n",
    "df_performance = sqlContext.read.format('parquet').load(hdfs_path+\"/performance\").orderBy(\"DepotId\")\n",
    "df_performance.show(200)"
   ]
  },
  {
   "cell_type": "code",
   "execution_count": 7,
   "metadata": {},
   "outputs": [
    {
     "name": "stdout",
     "output_type": "stream",
     "text": [
      "+-------+-------------+------------+-------------------------+-------------------------------------------------------------+\n",
      "|DepotId|Start-Caputal|Strategy    |ISIN                     |Share                                                        |\n",
      "+-------+-------------+------------+-------------------------+-------------------------------------------------------------+\n",
      "|1      |10000.0      |momentum10  |[APA, HES]               |[0.5, 0.5]                                                   |\n",
      "|2      |10000.0      |momentum30  |[APA, HES]               |[0.5, 0.5]                                                   |\n",
      "|3      |10000.0      |momentum60  |[APA, HES]               |[0.5, 0.5]                                                   |\n",
      "|4      |10000.0      |momentum120 |[APA, HES]               |[0.5, 0.5]                                                   |\n",
      "|5      |10000.0      |momentum180 |[APA, HES]               |[0.5, 0.5]                                                   |\n",
      "|6      |10000.0      |Buy and Hold|[APA, HES]               |[0.5, 0.5]                                                   |\n",
      "|7      |10000.0      |momentum10  |[APA, HES]               |[0.6666666666666666, 0.3333333333333333]                     |\n",
      "|8      |10000.0      |momentum30  |[APA, HES]               |[0.6666666666666666, 0.3333333333333333]                     |\n",
      "|9      |10000.0      |momentum60  |[APA, HES]               |[0.6666666666666666, 0.3333333333333333]                     |\n",
      "|10     |10000.0      |momentum120 |[APA, HES]               |[0.6666666666666666, 0.3333333333333333]                     |\n",
      "|11     |10000.0      |momentum180 |[APA, HES]               |[0.6666666666666666, 0.3333333333333333]                     |\n",
      "|12     |10000.0      |Buy and Hold|[APA, HES]               |[0.6666666666666666, 0.3333333333333333]                     |\n",
      "|13     |10000.0      |momentum10  |[APA, OKE, XEC]          |[0.3333333333333333, 0.3333333333333333, 0.33333333333333337]|\n",
      "|14     |10000.0      |momentum30  |[APA, OKE, XEC]          |[0.3333333333333333, 0.3333333333333333, 0.33333333333333337]|\n",
      "|15     |10000.0      |momentum60  |[APA, OKE, XEC]          |[0.3333333333333333, 0.3333333333333333, 0.33333333333333337]|\n",
      "|16     |10000.0      |momentum120 |[APA, OKE, XEC]          |[0.3333333333333333, 0.3333333333333333, 0.33333333333333337]|\n",
      "|17     |10000.0      |momentum180 |[APA, OKE, XEC]          |[0.3333333333333333, 0.3333333333333333, 0.33333333333333337]|\n",
      "|18     |10000.0      |Buy and Hold|[APA, OKE, XEC]          |[0.3333333333333333, 0.3333333333333333, 0.33333333333333337]|\n",
      "|19     |10000.0      |momentum10  |[APA, OKE, XEC]          |[0.5, 0.3333333333333333, 0.16666666666666666]               |\n",
      "|20     |10000.0      |momentum30  |[APA, OKE, XEC]          |[0.5, 0.3333333333333333, 0.16666666666666666]               |\n",
      "|21     |10000.0      |momentum60  |[APA, OKE, XEC]          |[0.5, 0.3333333333333333, 0.16666666666666666]               |\n",
      "|22     |10000.0      |momentum120 |[APA, OKE, XEC]          |[0.5, 0.3333333333333333, 0.16666666666666666]               |\n",
      "|23     |10000.0      |momentum180 |[APA, OKE, XEC]          |[0.5, 0.3333333333333333, 0.16666666666666666]               |\n",
      "|24     |10000.0      |Buy and Hold|[APA, OKE, XEC]          |[0.5, 0.3333333333333333, 0.16666666666666666]               |\n",
      "|25     |10000.0      |momentum10  |[APA, OKE, COP, FTI]     |[0.25, 0.25, 0.25, 0.25]                                     |\n",
      "|26     |10000.0      |momentum30  |[APA, OKE, COP, FTI]     |[0.25, 0.25, 0.25, 0.25]                                     |\n",
      "|27     |10000.0      |momentum60  |[APA, OKE, COP, FTI]     |[0.25, 0.25, 0.25, 0.25]                                     |\n",
      "|28     |10000.0      |momentum120 |[APA, OKE, COP, FTI]     |[0.25, 0.25, 0.25, 0.25]                                     |\n",
      "|29     |10000.0      |momentum180 |[APA, OKE, COP, FTI]     |[0.25, 0.25, 0.25, 0.25]                                     |\n",
      "|30     |10000.0      |Buy and Hold|[APA, OKE, COP, FTI]     |[0.25, 0.25, 0.25, 0.25]                                     |\n",
      "|31     |10000.0      |momentum10  |[OKE, COP, FTI, DVN]     |[0.4, 0.3, 0.2, 0.1]                                         |\n",
      "|32     |10000.0      |momentum30  |[OKE, COP, FTI, DVN]     |[0.4, 0.3, 0.2, 0.1]                                         |\n",
      "|33     |10000.0      |momentum60  |[OKE, COP, FTI, DVN]     |[0.4, 0.3, 0.2, 0.1]                                         |\n",
      "|34     |10000.0      |momentum120 |[OKE, COP, FTI, DVN]     |[0.4, 0.3, 0.2, 0.1]                                         |\n",
      "|35     |10000.0      |momentum180 |[OKE, COP, FTI, DVN]     |[0.4, 0.3, 0.2, 0.1]                                         |\n",
      "|36     |10000.0      |Buy and Hold|[OKE, COP, FTI, DVN]     |[0.4, 0.3, 0.2, 0.1]                                         |\n",
      "|37     |10000.0      |momentum10  |[FLR, FBHS]              |[0.5, 0.5]                                                   |\n",
      "|38     |10000.0      |momentum30  |[FLR, FBHS]              |[0.5, 0.5]                                                   |\n",
      "|39     |10000.0      |momentum60  |[FLR, FBHS]              |[0.5, 0.5]                                                   |\n",
      "|40     |10000.0      |momentum120 |[FLR, FBHS]              |[0.5, 0.5]                                                   |\n",
      "|41     |10000.0      |momentum180 |[FLR, FBHS]              |[0.5, 0.5]                                                   |\n",
      "|42     |10000.0      |Buy and Hold|[FLR, FBHS]              |[0.5, 0.5]                                                   |\n",
      "|43     |10000.0      |momentum10  |[FLR, OKE]               |[0.6666666666666666, 0.3333333333333333]                     |\n",
      "|44     |10000.0      |momentum30  |[FLR, OKE]               |[0.6666666666666666, 0.3333333333333333]                     |\n",
      "|45     |10000.0      |momentum60  |[FLR, OKE]               |[0.6666666666666666, 0.3333333333333333]                     |\n",
      "|46     |10000.0      |momentum120 |[FLR, OKE]               |[0.6666666666666666, 0.3333333333333333]                     |\n",
      "|47     |10000.0      |momentum180 |[FLR, OKE]               |[0.6666666666666666, 0.3333333333333333]                     |\n",
      "|48     |10000.0      |Buy and Hold|[FLR, OKE]               |[0.6666666666666666, 0.3333333333333333]                     |\n",
      "|49     |10000.0      |momentum10  |[FLR, FBHS, DAL]         |[0.3333333333333333, 0.3333333333333333, 0.33333333333333337]|\n",
      "|50     |10000.0      |momentum30  |[FLR, FBHS, DAL]         |[0.3333333333333333, 0.3333333333333333, 0.33333333333333337]|\n",
      "|51     |10000.0      |momentum60  |[FLR, FBHS, DAL]         |[0.3333333333333333, 0.3333333333333333, 0.33333333333333337]|\n",
      "|52     |10000.0      |momentum120 |[FLR, FBHS, DAL]         |[0.3333333333333333, 0.3333333333333333, 0.33333333333333337]|\n",
      "|53     |10000.0      |momentum180 |[FLR, FBHS, DAL]         |[0.3333333333333333, 0.3333333333333333, 0.33333333333333337]|\n",
      "|54     |10000.0      |Buy and Hold|[FLR, FBHS, DAL]         |[0.3333333333333333, 0.3333333333333333, 0.33333333333333337]|\n",
      "|55     |10000.0      |momentum10  |[FLR, FBHS, DVN]         |[0.5, 0.3333333333333333, 0.16666666666666666]               |\n",
      "|56     |10000.0      |momentum30  |[FLR, FBHS, DVN]         |[0.5, 0.3333333333333333, 0.16666666666666666]               |\n",
      "|57     |10000.0      |momentum60  |[FLR, FBHS, DVN]         |[0.5, 0.3333333333333333, 0.16666666666666666]               |\n",
      "|58     |10000.0      |momentum120 |[FLR, FBHS, DVN]         |[0.5, 0.3333333333333333, 0.16666666666666666]               |\n",
      "|59     |10000.0      |momentum180 |[FLR, FBHS, DVN]         |[0.5, 0.3333333333333333, 0.16666666666666666]               |\n",
      "|60     |10000.0      |Buy and Hold|[FLR, FBHS, DVN]         |[0.5, 0.3333333333333333, 0.16666666666666666]               |\n",
      "|61     |10000.0      |momentum10  |[FTI, PXD, SLB, OXY]     |[0.25, 0.25, 0.25, 0.25]                                     |\n",
      "|62     |10000.0      |momentum30  |[FTI, PXD, SLB, OXY]     |[0.25, 0.25, 0.25, 0.25]                                     |\n",
      "|63     |10000.0      |momentum60  |[FTI, PXD, SLB, OXY]     |[0.25, 0.25, 0.25, 0.25]                                     |\n",
      "|64     |10000.0      |momentum120 |[FTI, PXD, SLB, OXY]     |[0.25, 0.25, 0.25, 0.25]                                     |\n",
      "|65     |10000.0      |momentum180 |[FTI, PXD, SLB, OXY]     |[0.25, 0.25, 0.25, 0.25]                                     |\n",
      "|66     |10000.0      |Buy and Hold|[FTI, PXD, SLB, OXY]     |[0.25, 0.25, 0.25, 0.25]                                     |\n",
      "|67     |10000.0      |momentum10  |[PXD, OXY, SLB, PWR]     |[0.4, 0.3, 0.2, 0.1]                                         |\n",
      "|68     |10000.0      |momentum30  |[PXD, OXY, SLB, PWR]     |[0.4, 0.3, 0.2, 0.1]                                         |\n",
      "|69     |10000.0      |momentum60  |[PXD, OXY, SLB, PWR]     |[0.4, 0.3, 0.2, 0.1]                                         |\n",
      "|70     |10000.0      |momentum120 |[PXD, OXY, SLB, PWR]     |[0.4, 0.3, 0.2, 0.1]                                         |\n",
      "|71     |10000.0      |momentum180 |[PXD, OXY, SLB, PWR]     |[0.4, 0.3, 0.2, 0.1]                                         |\n",
      "|72     |10000.0      |Buy and Hold|[PXD, OXY, SLB, PWR]     |[0.4, 0.3, 0.2, 0.1]                                         |\n",
      "|73     |10000.0      |momentum10  |[HES, PXD]               |[0.5, 0.5]                                                   |\n",
      "|74     |10000.0      |momentum30  |[HES, PXD]               |[0.5, 0.5]                                                   |\n",
      "|75     |10000.0      |momentum60  |[HES, PXD]               |[0.5, 0.5]                                                   |\n",
      "|76     |10000.0      |momentum120 |[HES, PXD]               |[0.5, 0.5]                                                   |\n",
      "|77     |10000.0      |momentum180 |[HES, PXD]               |[0.5, 0.5]                                                   |\n",
      "|78     |10000.0      |Buy and Hold|[HES, PXD]               |[0.5, 0.5]                                                   |\n",
      "|79     |10000.0      |momentum10  |[PXD, GE]                |[0.6666666666666666, 0.3333333333333333]                     |\n",
      "|80     |10000.0      |momentum30  |[PXD, GE]                |[0.6666666666666666, 0.3333333333333333]                     |\n",
      "|81     |10000.0      |momentum60  |[PXD, GE]                |[0.6666666666666666, 0.3333333333333333]                     |\n",
      "|82     |10000.0      |momentum120 |[PXD, GE]                |[0.6666666666666666, 0.3333333333333333]                     |\n",
      "|83     |10000.0      |momentum180 |[PXD, GE]                |[0.6666666666666666, 0.3333333333333333]                     |\n",
      "|84     |10000.0      |Buy and Hold|[PXD, GE]                |[0.6666666666666666, 0.3333333333333333]                     |\n",
      "|85     |10000.0      |momentum10  |[PXD, GE, OXY]           |[0.3333333333333333, 0.3333333333333333, 0.33333333333333337]|\n",
      "|86     |10000.0      |momentum30  |[PXD, GE, OXY]           |[0.3333333333333333, 0.3333333333333333, 0.33333333333333337]|\n",
      "|87     |10000.0      |momentum60  |[PXD, GE, OXY]           |[0.3333333333333333, 0.3333333333333333, 0.33333333333333337]|\n",
      "|88     |10000.0      |momentum120 |[PXD, GE, OXY]           |[0.3333333333333333, 0.3333333333333333, 0.33333333333333337]|\n",
      "|89     |10000.0      |momentum180 |[PXD, GE, OXY]           |[0.3333333333333333, 0.3333333333333333, 0.33333333333333337]|\n",
      "|90     |10000.0      |Buy and Hold|[PXD, GE, OXY]           |[0.3333333333333333, 0.3333333333333333, 0.33333333333333337]|\n",
      "|91     |10000.0      |momentum10  |[PXD, GE, OXY]           |[0.5, 0.3333333333333333, 0.16666666666666666]               |\n",
      "|92     |10000.0      |momentum30  |[PXD, GE, OXY]           |[0.5, 0.3333333333333333, 0.16666666666666666]               |\n",
      "|93     |10000.0      |momentum60  |[PXD, GE, OXY]           |[0.5, 0.3333333333333333, 0.16666666666666666]               |\n",
      "|94     |10000.0      |momentum120 |[PXD, GE, OXY]           |[0.5, 0.3333333333333333, 0.16666666666666666]               |\n",
      "|95     |10000.0      |momentum180 |[PXD, GE, OXY]           |[0.5, 0.3333333333333333, 0.16666666666666666]               |\n",
      "|96     |10000.0      |Buy and Hold|[PXD, GE, OXY]           |[0.5, 0.3333333333333333, 0.16666666666666666]               |\n",
      "|97     |10000.0      |momentum10  |[PXD, GE, OXY, PSX]      |[0.25, 0.25, 0.25, 0.25]                                     |\n",
      "|98     |10000.0      |momentum30  |[PXD, GE, OXY, PSX]      |[0.25, 0.25, 0.25, 0.25]                                     |\n",
      "|99     |10000.0      |momentum60  |[PXD, GE, OXY, PSX]      |[0.25, 0.25, 0.25, 0.25]                                     |\n",
      "|100    |10000.0      |momentum120 |[PXD, GE, OXY, PSX]      |[0.25, 0.25, 0.25, 0.25]                                     |\n",
      "|101    |10000.0      |momentum180 |[PXD, GE, OXY, PSX]      |[0.25, 0.25, 0.25, 0.25]                                     |\n",
      "|102    |10000.0      |Buy and Hold|[PXD, GE, OXY, PSX]      |[0.25, 0.25, 0.25, 0.25]                                     |\n",
      "|103    |10000.0      |momentum10  |[FLR, FBHS, PXD, TDG]    |[0.4, 0.3, 0.2, 0.1]                                         |\n",
      "|104    |10000.0      |momentum30  |[FLR, FBHS, PXD, TDG]    |[0.4, 0.3, 0.2, 0.1]                                         |\n",
      "|105    |10000.0      |momentum60  |[FLR, FBHS, PXD, TDG]    |[0.4, 0.3, 0.2, 0.1]                                         |\n",
      "|106    |10000.0      |momentum120 |[FLR, FBHS, PXD, TDG]    |[0.4, 0.3, 0.2, 0.1]                                         |\n",
      "|107    |10000.0      |momentum180 |[FLR, FBHS, PXD, TDG]    |[0.4, 0.3, 0.2, 0.1]                                         |\n",
      "|108    |10000.0      |Buy and Hold|[FLR, FBHS, PXD, TDG]    |[0.4, 0.3, 0.2, 0.1]                                         |\n",
      "|109    |10000.0      |momentum30  |[MHK, FLR, NRG, VNO, MGM]|[0.2, 0.2, 0.2, 0.2, 0.2]                                    |\n",
      "|110    |10000.0      |momentum60  |[MHK, FLR, NRG, VNO, MGM]|[0.2, 0.2, 0.2, 0.2, 0.2]                                    |\n",
      "|111    |10000.0      |momentum120 |[MHK, FLR, NRG, VNO, MGM]|[0.2, 0.2, 0.2, 0.2, 0.2]                                    |\n",
      "|112    |10000.0      |Buy and Hold|[MHK, FLR, NRG, VNO, MGM]|[0.2, 0.2, 0.2, 0.2, 0.2]                                    |\n",
      "|113    |10000.0      |momentum30  |[AAPL, MSFT]             |[0.5, 0.5]                                                   |\n",
      "|114    |10000.0      |momentum60  |[AAPL, MSFT]             |[0.5, 0.5]                                                   |\n",
      "|115    |10000.0      |momentum120 |[AAPL, MSFT]             |[0.5, 0.5]                                                   |\n",
      "|116    |10000.0      |Buy and Hold|[AAPL, MSFT]             |[0.5, 0.5]                                                   |\n",
      "|117    |10000.0      |momentum30  |[UAL, TSLA, WFC]         |[0.3333333333333333, 0.3333333333333333, 0.33333333333333337]|\n",
      "|118    |10000.0      |momentum60  |[UAL, TSLA, WFC]         |[0.3333333333333333, 0.3333333333333333, 0.33333333333333337]|\n",
      "|119    |10000.0      |momentum120 |[UAL, TSLA, WFC]         |[0.3333333333333333, 0.3333333333333333, 0.33333333333333337]|\n",
      "|119    |10000.0      |momentum30  |[UAL, TSLA, WFC]         |[0.5, 0.3333333333333333, 0.16666666666666666]               |\n",
      "|120    |10000.0      |momentum60  |[UAL, TSLA, WFC]         |[0.5, 0.3333333333333333, 0.16666666666666666]               |\n",
      "|120    |10000.0      |Buy and Hold|[UAL, TSLA, WFC]         |[0.3333333333333333, 0.3333333333333333, 0.33333333333333337]|\n",
      "|121    |10000.0      |momentum120 |[UAL, TSLA, WFC]         |[0.5, 0.3333333333333333, 0.16666666666666666]               |\n",
      "|122    |10000.0      |Buy and Hold|[UAL, TSLA, WFC]         |[0.5, 0.3333333333333333, 0.16666666666666666]               |\n",
      "|135    |10000.0      |momentum30  |[UAL]                    |[1.0]                                                        |\n",
      "|136    |10000.0      |momentum60  |[UAL]                    |[1.0]                                                        |\n",
      "|137    |10000.0      |momentum120 |[UAL]                    |[1.0]                                                        |\n",
      "|137    |10000.0      |momentum30  |[UAL]                    |[1.0]                                                        |\n",
      "|138    |10000.0      |momentum60  |[UAL]                    |[1.0]                                                        |\n",
      "|138    |10000.0      |Buy and Hold|[UAL]                    |[1.0]                                                        |\n",
      "|139    |10000.0      |momentum30  |[UAL, TSLA]              |[0.5, 0.5]                                                   |\n",
      "|139    |10000.0      |momentum120 |[UAL]                    |[1.0]                                                        |\n",
      "|140    |10000.0      |momentum60  |[UAL, TSLA]              |[0.5, 0.5]                                                   |\n",
      "|140    |10000.0      |Buy and Hold|[UAL]                    |[1.0]                                                        |\n",
      "|141    |10000.0      |momentum120 |[UAL, TSLA]              |[0.5, 0.5]                                                   |\n",
      "|141    |10000.0      |momentum30  |[UAL, TSLA]              |[0.6666666666666666, 0.3333333333333333]                     |\n",
      "|142    |10000.0      |Buy and Hold|[UAL, TSLA]              |[0.5, 0.5]                                                   |\n",
      "|142    |10000.0      |momentum60  |[UAL, TSLA]              |[0.6666666666666666, 0.3333333333333333]                     |\n",
      "|143    |10000.0      |momentum120 |[UAL, TSLA]              |[0.6666666666666666, 0.3333333333333333]                     |\n",
      "|144    |10000.0      |Buy and Hold|[UAL, TSLA]              |[0.6666666666666666, 0.3333333333333333]                     |\n",
      "|145    |10000.0      |momentum30  |[UAL]                    |[1.0]                                                        |\n",
      "|146    |10000.0      |momentum60  |[UAL]                    |[1.0]                                                        |\n",
      "|147    |10000.0      |momentum120 |[UAL]                    |[1.0]                                                        |\n",
      "|148    |10000.0      |Buy and Hold|[UAL]                    |[1.0]                                                        |\n",
      "|148    |10000.0      |momentum30  |[UAL]                    |[1.0]                                                        |\n",
      "|149    |10000.0      |momentum60  |[UAL]                    |[1.0]                                                        |\n",
      "|150    |10000.0      |momentum120 |[UAL]                    |[1.0]                                                        |\n",
      "|151    |10000.0      |momentum30  |[UAL, TSLA]              |[0.5, 0.5]                                                   |\n",
      "|151    |10000.0      |Buy and Hold|[UAL]                    |[1.0]                                                        |\n",
      "|152    |10000.0      |momentum60  |[UAL, TSLA]              |[0.5, 0.5]                                                   |\n",
      "|153    |10000.0      |momentum120 |[UAL, TSLA]              |[0.5, 0.5]                                                   |\n",
      "|154    |10000.0      |momentum30  |[UAL, TSLA]              |[0.6666666666666666, 0.3333333333333333]                     |\n",
      "|154    |10000.0      |Buy and Hold|[UAL, TSLA]              |[0.5, 0.5]                                                   |\n",
      "|155    |10000.0      |momentum60  |[UAL, TSLA]              |[0.6666666666666666, 0.3333333333333333]                     |\n",
      "|156    |10000.0      |momentum120 |[UAL, TSLA]              |[0.6666666666666666, 0.3333333333333333]                     |\n",
      "|157    |10000.0      |Buy and Hold|[UAL, TSLA]              |[0.6666666666666666, 0.3333333333333333]                     |\n",
      "+-------+-------------+------------+-------------------------+-------------------------------------------------------------+\n",
      "\n"
     ]
    }
   ],
   "source": [
    "df_depot = sqlContext.read.format('parquet').load(hdfs_path+\"/depot\")\n",
    "df_depot.orderBy(\"DepotId\").show(200, truncate=False)"
   ]
  },
  {
   "cell_type": "markdown",
   "metadata": {},
   "source": [
    "## 2. Trading Simulation / Performance Evaluation with realtime Streams (Spark Streaming)"
   ]
  },
  {
   "cell_type": "markdown",
   "metadata": {},
   "source": [
    "### Stream real time quotes from Kafka topic"
   ]
  },
  {
   "cell_type": "code",
   "execution_count": 5,
   "metadata": {},
   "outputs": [
    {
     "name": "stdout",
     "output_type": "stream",
     "text": [
      "2020-05-14 15:32:36 9999.999524 10013.43286\n",
      "2020-05-14 15:33:59 10001.299524000002 10016.42286\n",
      "2020-05-14 15:35:09 10008.359524 10027.41286\n",
      "2020-05-14 15:35:24 10008.359524 10038.66286\n",
      "2020-05-14 15:37:45 10008.359524 10047.70286\n",
      "2020-05-14 15:38:10 10008.359524 10042.442860000001\n"
     ]
    },
    {
     "ename": "KeyboardInterrupt",
     "evalue": "",
     "output_type": "error",
     "traceback": [
      "\u001b[1;31m---------------------------------------------------------------------------\u001b[0m",
      "\u001b[1;31mKeyboardInterrupt\u001b[0m                         Traceback (most recent call last)",
      "\u001b[1;32m<ipython-input-5-e1522578a8c7>\u001b[0m in \u001b[0;36m<module>\u001b[1;34m\u001b[0m\n\u001b[0;32m     11\u001b[0m \u001b[1;33m\u001b[0m\u001b[0m\n\u001b[0;32m     12\u001b[0m \u001b[1;33m\u001b[0m\u001b[0m\n\u001b[1;32m---> 13\u001b[1;33m \u001b[0mr\u001b[0m\u001b[1;33m.\u001b[0m\u001b[0mrealtime\u001b[0m\u001b[1;33m(\u001b[0m\u001b[0msymbol\u001b[0m\u001b[1;33m,\u001b[0m \u001b[0mshare\u001b[0m\u001b[1;33m,\u001b[0m \u001b[0mstartCap\u001b[0m\u001b[1;33m,\u001b[0m \u001b[0mcommission\u001b[0m\u001b[1;33m,\u001b[0m \u001b[0mmomentum_str\u001b[0m\u001b[1;33m,\u001b[0m \u001b[0mindex\u001b[0m\u001b[1;33m,\u001b[0m \u001b[0msqlContext\u001b[0m\u001b[1;33m)\u001b[0m\u001b[1;33m\u001b[0m\u001b[1;33m\u001b[0m\u001b[0m\n\u001b[0m",
      "\u001b[1;32m~\\RAMBO\\kafka_spark_python\\lib\\sparkStructuredStreaming.py\u001b[0m in \u001b[0;36mrealtime\u001b[1;34m(self, symbol, share, startCap, commission, strategy, index, sqlContext)\u001b[0m\n\u001b[0;32m   1014\u001b[0m             \u001b[1;31m# update depot and stocksOwned in loop until break\u001b[0m\u001b[1;33m\u001b[0m\u001b[1;33m\u001b[0m\u001b[1;33m\u001b[0m\u001b[0m\n\u001b[0;32m   1015\u001b[0m             depot_strategy = self.realtime_loop(value, datetime, moneyForInvesting_list, moneyInStocks_list, stocksOwned,\\\n\u001b[1;32m-> 1016\u001b[1;33m                                            trades_total, symbol, share, commission, strategy, sqlContext)\n\u001b[0m\u001b[0;32m   1017\u001b[0m             depot_b = self.realtime_loop(value_b, datetime_b, moneyForInvesting_list_b, moneyInStocks_list_b, stocksOwned_b,\\\n\u001b[0;32m   1018\u001b[0m                                       trades_total_b, symbol, share, commission, strategy_b, sqlContext)\n",
      "\u001b[1;32m~\\RAMBO\\kafka_spark_python\\lib\\sparkStructuredStreaming.py\u001b[0m in \u001b[0;36mrealtime_loop\u001b[1;34m(self, value, datetime, moneyForInvesting_list, moneyInStocks_list, stocksOwned, trades_total, symbol, share, commission, strategy, sqlContext)\u001b[0m\n\u001b[0;32m    979\u001b[0m             \u001b[1;31m# filter out right symbol, get latest price\u001b[0m\u001b[1;33m\u001b[0m\u001b[1;33m\u001b[0m\u001b[1;33m\u001b[0m\u001b[0m\n\u001b[0;32m    980\u001b[0m             \u001b[0mdf_pos\u001b[0m \u001b[1;33m=\u001b[0m \u001b[0mstrategy\u001b[0m\u001b[1;33m[\u001b[0m\u001b[1;36m0\u001b[0m\u001b[1;33m]\u001b[0m\u001b[1;33m(\u001b[0m\u001b[0mdf\u001b[0m\u001b[1;33m,\u001b[0m \u001b[0msymbol\u001b[0m\u001b[1;33m[\u001b[0m\u001b[0mi\u001b[0m\u001b[1;33m]\u001b[0m\u001b[1;33m,\u001b[0m\u001b[0mstrategy\u001b[0m\u001b[1;33m[\u001b[0m\u001b[1;36m2\u001b[0m\u001b[1;33m]\u001b[0m\u001b[1;33m)\u001b[0m\u001b[1;33m\u001b[0m\u001b[1;33m\u001b[0m\u001b[0m\n\u001b[1;32m--> 981\u001b[1;33m             \u001b[0mrows\u001b[0m \u001b[1;33m=\u001b[0m \u001b[0mdf_pos\u001b[0m\u001b[1;33m.\u001b[0m\u001b[0mcollect\u001b[0m\u001b[1;33m(\u001b[0m\u001b[1;33m)\u001b[0m\u001b[1;33m[\u001b[0m\u001b[1;36m0\u001b[0m\u001b[1;33m]\u001b[0m\u001b[1;33m\u001b[0m\u001b[1;33m\u001b[0m\u001b[0m\n\u001b[0m\u001b[0;32m    982\u001b[0m             \u001b[1;31m# only proceed if there is a new stock price available\u001b[0m\u001b[1;33m\u001b[0m\u001b[1;33m\u001b[0m\u001b[1;33m\u001b[0m\u001b[0m\n\u001b[0;32m    983\u001b[0m             \u001b[1;32mif\u001b[0m\u001b[1;33m(\u001b[0m\u001b[0mdate\u001b[0m \u001b[1;32mis\u001b[0m \u001b[1;32mnot\u001b[0m \u001b[0mrows\u001b[0m\u001b[1;33m.\u001b[0m\u001b[0mDatetime\u001b[0m\u001b[1;33m)\u001b[0m\u001b[1;33m:\u001b[0m\u001b[1;33m\u001b[0m\u001b[1;33m\u001b[0m\u001b[0m\n",
      "\u001b[1;32mc:\\spark\\python\\pyspark\\sql\\dataframe.py\u001b[0m in \u001b[0;36mcollect\u001b[1;34m(self)\u001b[0m\n\u001b[0;32m    532\u001b[0m         \"\"\"\n\u001b[0;32m    533\u001b[0m         \u001b[1;32mwith\u001b[0m \u001b[0mSCCallSiteSync\u001b[0m\u001b[1;33m(\u001b[0m\u001b[0mself\u001b[0m\u001b[1;33m.\u001b[0m\u001b[0m_sc\u001b[0m\u001b[1;33m)\u001b[0m \u001b[1;32mas\u001b[0m \u001b[0mcss\u001b[0m\u001b[1;33m:\u001b[0m\u001b[1;33m\u001b[0m\u001b[1;33m\u001b[0m\u001b[0m\n\u001b[1;32m--> 534\u001b[1;33m             \u001b[0msock_info\u001b[0m \u001b[1;33m=\u001b[0m \u001b[0mself\u001b[0m\u001b[1;33m.\u001b[0m\u001b[0m_jdf\u001b[0m\u001b[1;33m.\u001b[0m\u001b[0mcollectToPython\u001b[0m\u001b[1;33m(\u001b[0m\u001b[1;33m)\u001b[0m\u001b[1;33m\u001b[0m\u001b[1;33m\u001b[0m\u001b[0m\n\u001b[0m\u001b[0;32m    535\u001b[0m         \u001b[1;32mreturn\u001b[0m \u001b[0mlist\u001b[0m\u001b[1;33m(\u001b[0m\u001b[0m_load_from_socket\u001b[0m\u001b[1;33m(\u001b[0m\u001b[0msock_info\u001b[0m\u001b[1;33m,\u001b[0m \u001b[0mBatchedSerializer\u001b[0m\u001b[1;33m(\u001b[0m\u001b[0mPickleSerializer\u001b[0m\u001b[1;33m(\u001b[0m\u001b[1;33m)\u001b[0m\u001b[1;33m)\u001b[0m\u001b[1;33m)\u001b[0m\u001b[1;33m)\u001b[0m\u001b[1;33m\u001b[0m\u001b[1;33m\u001b[0m\u001b[0m\n\u001b[0;32m    536\u001b[0m \u001b[1;33m\u001b[0m\u001b[0m\n",
      "\u001b[1;32mc:\\spark\\python\\lib\\py4j-0.10.7-src.zip\\py4j\\java_gateway.py\u001b[0m in \u001b[0;36m__call__\u001b[1;34m(self, *args)\u001b[0m\n\u001b[0;32m   1253\u001b[0m             \u001b[0mproto\u001b[0m\u001b[1;33m.\u001b[0m\u001b[0mEND_COMMAND_PART\u001b[0m\u001b[1;33m\u001b[0m\u001b[1;33m\u001b[0m\u001b[0m\n\u001b[0;32m   1254\u001b[0m \u001b[1;33m\u001b[0m\u001b[0m\n\u001b[1;32m-> 1255\u001b[1;33m         \u001b[0manswer\u001b[0m \u001b[1;33m=\u001b[0m \u001b[0mself\u001b[0m\u001b[1;33m.\u001b[0m\u001b[0mgateway_client\u001b[0m\u001b[1;33m.\u001b[0m\u001b[0msend_command\u001b[0m\u001b[1;33m(\u001b[0m\u001b[0mcommand\u001b[0m\u001b[1;33m)\u001b[0m\u001b[1;33m\u001b[0m\u001b[1;33m\u001b[0m\u001b[0m\n\u001b[0m\u001b[0;32m   1256\u001b[0m         return_value = get_return_value(\n\u001b[0;32m   1257\u001b[0m             answer, self.gateway_client, self.target_id, self.name)\n",
      "\u001b[1;32mc:\\spark\\python\\lib\\py4j-0.10.7-src.zip\\py4j\\java_gateway.py\u001b[0m in \u001b[0;36msend_command\u001b[1;34m(self, command, retry, binary)\u001b[0m\n\u001b[0;32m    983\u001b[0m         \u001b[0mconnection\u001b[0m \u001b[1;33m=\u001b[0m \u001b[0mself\u001b[0m\u001b[1;33m.\u001b[0m\u001b[0m_get_connection\u001b[0m\u001b[1;33m(\u001b[0m\u001b[1;33m)\u001b[0m\u001b[1;33m\u001b[0m\u001b[1;33m\u001b[0m\u001b[0m\n\u001b[0;32m    984\u001b[0m         \u001b[1;32mtry\u001b[0m\u001b[1;33m:\u001b[0m\u001b[1;33m\u001b[0m\u001b[1;33m\u001b[0m\u001b[0m\n\u001b[1;32m--> 985\u001b[1;33m             \u001b[0mresponse\u001b[0m \u001b[1;33m=\u001b[0m \u001b[0mconnection\u001b[0m\u001b[1;33m.\u001b[0m\u001b[0msend_command\u001b[0m\u001b[1;33m(\u001b[0m\u001b[0mcommand\u001b[0m\u001b[1;33m)\u001b[0m\u001b[1;33m\u001b[0m\u001b[1;33m\u001b[0m\u001b[0m\n\u001b[0m\u001b[0;32m    986\u001b[0m             \u001b[1;32mif\u001b[0m \u001b[0mbinary\u001b[0m\u001b[1;33m:\u001b[0m\u001b[1;33m\u001b[0m\u001b[1;33m\u001b[0m\u001b[0m\n\u001b[0;32m    987\u001b[0m                 \u001b[1;32mreturn\u001b[0m \u001b[0mresponse\u001b[0m\u001b[1;33m,\u001b[0m \u001b[0mself\u001b[0m\u001b[1;33m.\u001b[0m\u001b[0m_create_connection_guard\u001b[0m\u001b[1;33m(\u001b[0m\u001b[0mconnection\u001b[0m\u001b[1;33m)\u001b[0m\u001b[1;33m\u001b[0m\u001b[1;33m\u001b[0m\u001b[0m\n",
      "\u001b[1;32mc:\\spark\\python\\lib\\py4j-0.10.7-src.zip\\py4j\\java_gateway.py\u001b[0m in \u001b[0;36msend_command\u001b[1;34m(self, command)\u001b[0m\n\u001b[0;32m   1150\u001b[0m \u001b[1;33m\u001b[0m\u001b[0m\n\u001b[0;32m   1151\u001b[0m         \u001b[1;32mtry\u001b[0m\u001b[1;33m:\u001b[0m\u001b[1;33m\u001b[0m\u001b[1;33m\u001b[0m\u001b[0m\n\u001b[1;32m-> 1152\u001b[1;33m             \u001b[0manswer\u001b[0m \u001b[1;33m=\u001b[0m \u001b[0msmart_decode\u001b[0m\u001b[1;33m(\u001b[0m\u001b[0mself\u001b[0m\u001b[1;33m.\u001b[0m\u001b[0mstream\u001b[0m\u001b[1;33m.\u001b[0m\u001b[0mreadline\u001b[0m\u001b[1;33m(\u001b[0m\u001b[1;33m)\u001b[0m\u001b[1;33m[\u001b[0m\u001b[1;33m:\u001b[0m\u001b[1;33m-\u001b[0m\u001b[1;36m1\u001b[0m\u001b[1;33m]\u001b[0m\u001b[1;33m)\u001b[0m\u001b[1;33m\u001b[0m\u001b[1;33m\u001b[0m\u001b[0m\n\u001b[0m\u001b[0;32m   1153\u001b[0m             \u001b[0mlogger\u001b[0m\u001b[1;33m.\u001b[0m\u001b[0mdebug\u001b[0m\u001b[1;33m(\u001b[0m\u001b[1;34m\"Answer received: {0}\"\u001b[0m\u001b[1;33m.\u001b[0m\u001b[0mformat\u001b[0m\u001b[1;33m(\u001b[0m\u001b[0manswer\u001b[0m\u001b[1;33m)\u001b[0m\u001b[1;33m)\u001b[0m\u001b[1;33m\u001b[0m\u001b[1;33m\u001b[0m\u001b[0m\n\u001b[0;32m   1154\u001b[0m             \u001b[1;32mif\u001b[0m \u001b[0manswer\u001b[0m\u001b[1;33m.\u001b[0m\u001b[0mstartswith\u001b[0m\u001b[1;33m(\u001b[0m\u001b[0mproto\u001b[0m\u001b[1;33m.\u001b[0m\u001b[0mRETURN_MESSAGE\u001b[0m\u001b[1;33m)\u001b[0m\u001b[1;33m:\u001b[0m\u001b[1;33m\u001b[0m\u001b[1;33m\u001b[0m\u001b[0m\n",
      "\u001b[1;32m~\\anaconda\\lib\\socket.py\u001b[0m in \u001b[0;36mreadinto\u001b[1;34m(self, b)\u001b[0m\n\u001b[0;32m    587\u001b[0m         \u001b[1;32mwhile\u001b[0m \u001b[1;32mTrue\u001b[0m\u001b[1;33m:\u001b[0m\u001b[1;33m\u001b[0m\u001b[1;33m\u001b[0m\u001b[0m\n\u001b[0;32m    588\u001b[0m             \u001b[1;32mtry\u001b[0m\u001b[1;33m:\u001b[0m\u001b[1;33m\u001b[0m\u001b[1;33m\u001b[0m\u001b[0m\n\u001b[1;32m--> 589\u001b[1;33m                 \u001b[1;32mreturn\u001b[0m \u001b[0mself\u001b[0m\u001b[1;33m.\u001b[0m\u001b[0m_sock\u001b[0m\u001b[1;33m.\u001b[0m\u001b[0mrecv_into\u001b[0m\u001b[1;33m(\u001b[0m\u001b[0mb\u001b[0m\u001b[1;33m)\u001b[0m\u001b[1;33m\u001b[0m\u001b[1;33m\u001b[0m\u001b[0m\n\u001b[0m\u001b[0;32m    590\u001b[0m             \u001b[1;32mexcept\u001b[0m \u001b[0mtimeout\u001b[0m\u001b[1;33m:\u001b[0m\u001b[1;33m\u001b[0m\u001b[1;33m\u001b[0m\u001b[0m\n\u001b[0;32m    591\u001b[0m                 \u001b[0mself\u001b[0m\u001b[1;33m.\u001b[0m\u001b[0m_timeout_occurred\u001b[0m \u001b[1;33m=\u001b[0m \u001b[1;32mTrue\u001b[0m\u001b[1;33m\u001b[0m\u001b[1;33m\u001b[0m\u001b[0m\n",
      "\u001b[1;31mKeyboardInterrupt\u001b[0m: "
     ]
    }
   ],
   "source": [
    "r = sparkStructuredStreaming.realtime()\n",
    "\n",
    "# same set up as in backtesting\n",
    "symbol, share = # todo: use the ibes which performed best in backtesting\n",
    "\n",
    "startCap = 10000.0\n",
    "commission = 0.000119\n",
    "index = \"trading\"\n",
    "# choose momentum which worked best in backtesting\n",
    "momentum_str = [r.momentum,\"momentum\",10]\n",
    "\n",
    "\n",
    "r.realtime(symbol, share, startCap, commission, momentum_str, index, sqlContext)"
   ]
  }
 ],
 "metadata": {
  "kernelspec": {
   "display_name": "Python 3",
   "language": "python",
   "name": "python3"
  },
  "language_info": {
   "codemirror_mode": {
    "name": "ipython",
    "version": 3
   },
   "file_extension": ".py",
   "mimetype": "text/x-python",
   "name": "python",
   "nbconvert_exporter": "python",
   "pygments_lexer": "ipython3",
   "version": "3.7.6"
  }
 },
 "nbformat": 4,
 "nbformat_minor": 4
}
