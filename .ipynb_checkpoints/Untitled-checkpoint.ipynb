{
 "cells": [
  {
   "cell_type": "code",
   "execution_count": 1,
   "metadata": {},
   "outputs": [],
   "source": [
    "import findspark\n",
    "findspark.init()\n",
    "\n",
    "import time as t\n",
    "import subprocess\n",
    "from pyspark.sql import SparkSession\n",
    "from pyspark.sql import SQLContext\n",
    "from pyspark.streaming import StreamingContext\n",
    "from pyspark.sql import functions as F\n",
    "from pyspark.sql.types import *\n",
    "from datetime import datetime, date, timedelta\n",
    "import sys\n",
    "from lib import sparkStructuredStreaming\n",
    "import os\n",
    "%matplotlib inline\n",
    "from matplotlib import pyplot as plt\n",
    "from pyspark.sql.window import Window\n",
    "import math as m"
   ]
  },
  {
   "cell_type": "code",
   "execution_count": 2,
   "metadata": {},
   "outputs": [],
   "source": [
    "os.environ['PYSPARK_SUBMIT_ARGS'] = '--packages org.apache.spark:spark-sql-kafka-0-10_2.11:2.4.5,org.elasticsearch:elasticsearch-spark-20_2.11:7.6.2 pyspark-shell'"
   ]
  },
  {
   "cell_type": "code",
   "execution_count": 3,
   "metadata": {},
   "outputs": [],
   "source": [
    "#\"127.0.0.1:9092\" (local) //\"10.0.0.8:9092\" (BACC)\n",
    "bootstrap = \"127.0.0.1:9092\"\n",
    "hdfs_path = \"hdfs://0.0.0.0:19000\""
   ]
  },
  {
   "cell_type": "code",
   "execution_count": 4,
   "metadata": {},
   "outputs": [],
   "source": [
    "spark = SparkSession \\\n",
    "            .builder \\\n",
    "            .appName(\"KafkaIEXStructuredStreamingTest\") \\\n",
    "            .master(\"local[*]\") \\\n",
    "            .getOrCreate()\n",
    "\n",
    "sqlContext = SQLContext(spark)"
   ]
  },
  {
   "cell_type": "code",
   "execution_count": 7,
   "metadata": {},
   "outputs": [],
   "source": [
    "from elasticsearch import Elasticsearch\n",
    "import time\n",
    "\n",
    "def realtime(r, startCap, day, sandbox, commission, sqlContext):\n",
    "    \n",
    "    depotid = day.strftime(\"%Y%m%d\")\n",
    "    # get best parameters from day prior\n",
    "    best_params = r.get_best_performance(day, sqlContext)\n",
    "    symbol = best_params[0]\n",
    "    share = best_params[1]\n",
    "    strategy_name = best_params[2]\n",
    "    \n",
    "    # write and start producer for given symbols\n",
    "    r.write_producer_batch(symbol, sandbox)\n",
    "    subprocess.call(['producer_start.bat'])\n",
    "    time.sleep(10*len(symbol))\n",
    "    \n",
    "    # get es ready\n",
    "    es=Elasticsearch([{'host':'localhost','port':9200}])\n",
    "    \n",
    "    # initialize strategy\n",
    "    if(strategy_name == \"Buy and Hold\"):\n",
    "        strategy = [r.buy_and_hold,\"buyAndHold\",10]\n",
    "    else:\n",
    "        strategy = [r.momentum, \"momentum\", int(strategy_name[8:])]\n",
    "    \n",
    "    if(sb == True):\n",
    "        x = \"SB\"\n",
    "    else:\n",
    "        x = \"\"\n",
    "        \n",
    "    init = r.realtime_init(symbol, share, startCap, commission, strategy, sqlContext, x)\n",
    "    value, datetime, moneyForInvesting_list, moneyInStocks_list, stocksOwned, trades_total, cash = init\n",
    "    \n",
    "    # first entry for depot index\n",
    "    keys_depot = [\"value\", \"date\", \"depotid\"]\n",
    "    vals_depot = [value, datetime, depotid]\n",
    "    strategy_dict_depot = dict(zip(keys_depot,vals_depot))\n",
    "    #res = es.index(index=\"depot\", body=strategy_dict_depot)\n",
    "    print(strategy_dict)\n",
    "    \n",
    "    # first entry for pie chart index\n",
    "    pie = [int(x/100) for x in moneyForInvesting_list]\n",
    "    for x in range(len(pie)):\n",
    "        for y in range(1,pie[x]+1):\n",
    "            key_pie = [\"date\",\"depotid\",\"symbol\"]\n",
    "            vals_pie = [datetime, depotid, symbol[x]]\n",
    "            strategy_dict_pie = dict(zip(keys_pie,vals_pie))\n",
    "    print(strategy_dict_pie)\n",
    "        \n",
    "    \"\"\"while(True):\n",
    "        last_datetime = datetime[0]\n",
    "        # update depot and stocksOwned in loop until break\n",
    "        depot_strategy = r.realtime_loop(value, datetime, moneyForInvesting_list, moneyInStocks_list, stocksOwned,\\\n",
    "                                           trades_total, symbol, share, commission, strategy, sqlContext)\n",
    "        depot_b = r.realtime_loop(value_b, datetime_b, moneyForInvesting_list_b, moneyInStocks_list_b, stocksOwned_b,\\\n",
    "                                      trades_total_b, symbol, share, commission, strategy_b, sqlContext)\n",
    "                \n",
    "        value, datetime, moneyForInvesting_list, moneyInStocks_list, stocksOwned, trades_total = depot_strategy\n",
    "        value_b, datetime_b, moneyForInvesting_list_b, moneyInStocks_list_b, stocksOwned_b, trades_total_b = depot_b\n",
    "            \n",
    "        current_datetime = datetime[0]\n",
    "        \n",
    "        if(last_datetime == current_datetime):\n",
    "            print(\"no new data\")\n",
    "            continue\n",
    "        else:\n",
    "            print(datetime[0],value,value_b)\n",
    "            # write values into elasticsearch for visualisation\n",
    "            keys = [\"value\", \"datetime\", \"moneyForInvesting_list\", \"moneyInStocks_list\", \"stocksOwned\", \"trades_total\"]\n",
    "            vals = [value, datetime, moneyForInvesting_list, moneyInStocks_list, stocksOwned, trades_total]\n",
    "            strategy_dict = dict(zip(keys,vals))\n",
    "            res = es.index(index=index, body=strategy_dict)\n",
    "            \n",
    "            vals_bnh = [value_b, datetime_b, moneyForInvesting_list_b, moneyInStocks_list_b, stocksOwned_b, trades_total_b]\n",
    "            bnh_dict = dict(zip(keys,vals_bnh))\n",
    "            res = es.index(index=\"trading_bnh\", body=bnh_dict)\"\"\""
   ]
  },
  {
   "cell_type": "code",
   "execution_count": 8,
   "metadata": {},
   "outputs": [
    {
     "name": "stdout",
     "output_type": "stream",
     "text": [
      "[*********************100%***********************]  456 of 456 completed\n",
      "[*********************100%***********************]  456 of 456 completed\n"
     ]
    },
    {
     "ename": "NameError",
     "evalue": "name 'startCap' is not defined",
     "output_type": "error",
     "traceback": [
      "\u001b[1;31m---------------------------------------------------------------------------\u001b[0m",
      "\u001b[1;31mNameError\u001b[0m                                 Traceback (most recent call last)",
      "\u001b[1;32m<ipython-input-8-7a134d9bd275>\u001b[0m in \u001b[0;36m<module>\u001b[1;34m\u001b[0m\n\u001b[0;32m      4\u001b[0m \u001b[0mcommission\u001b[0m \u001b[1;33m=\u001b[0m \u001b[1;36m5\u001b[0m\u001b[1;33m\u001b[0m\u001b[1;33m\u001b[0m\u001b[0m\n\u001b[0;32m      5\u001b[0m \u001b[1;33m\u001b[0m\u001b[0m\n\u001b[1;32m----> 6\u001b[1;33m \u001b[0mrealtime\u001b[0m\u001b[1;33m(\u001b[0m\u001b[0mr\u001b[0m\u001b[1;33m,\u001b[0m \u001b[0mday\u001b[0m\u001b[1;33m,\u001b[0m \u001b[0msandbox\u001b[0m\u001b[1;33m,\u001b[0m \u001b[0mcommission\u001b[0m\u001b[1;33m,\u001b[0m \u001b[0msqlContext\u001b[0m\u001b[1;33m)\u001b[0m\u001b[1;33m\u001b[0m\u001b[1;33m\u001b[0m\u001b[0m\n\u001b[0m",
      "\u001b[1;32m<ipython-input-7-4be499a03b51>\u001b[0m in \u001b[0;36mrealtime\u001b[1;34m(r, day, sandbox, commission, sqlContext)\u001b[0m\n\u001b[0;32m     25\u001b[0m         \u001b[0mstrategy\u001b[0m \u001b[1;33m=\u001b[0m \u001b[1;33m[\u001b[0m\u001b[0mr\u001b[0m\u001b[1;33m.\u001b[0m\u001b[0mmomentum\u001b[0m\u001b[1;33m,\u001b[0m \u001b[1;34m\"momentum\"\u001b[0m\u001b[1;33m,\u001b[0m \u001b[0mint\u001b[0m\u001b[1;33m(\u001b[0m\u001b[0mstrategy_name\u001b[0m\u001b[1;33m[\u001b[0m\u001b[1;36m8\u001b[0m\u001b[1;33m:\u001b[0m\u001b[1;33m]\u001b[0m\u001b[1;33m)\u001b[0m\u001b[1;33m]\u001b[0m\u001b[1;33m\u001b[0m\u001b[1;33m\u001b[0m\u001b[0m\n\u001b[0;32m     26\u001b[0m \u001b[1;33m\u001b[0m\u001b[0m\n\u001b[1;32m---> 27\u001b[1;33m     \u001b[0minit\u001b[0m \u001b[1;33m=\u001b[0m \u001b[0mr\u001b[0m\u001b[1;33m.\u001b[0m\u001b[0mrealtime_init\u001b[0m\u001b[1;33m(\u001b[0m\u001b[0msymbol\u001b[0m\u001b[1;33m,\u001b[0m \u001b[0mshare\u001b[0m\u001b[1;33m,\u001b[0m \u001b[0mstartCap\u001b[0m\u001b[1;33m,\u001b[0m \u001b[0mcommission\u001b[0m\u001b[1;33m,\u001b[0m \u001b[0mstrategy\u001b[0m\u001b[1;33m,\u001b[0m \u001b[0msqlContext\u001b[0m\u001b[1;33m)\u001b[0m\u001b[1;33m\u001b[0m\u001b[1;33m\u001b[0m\u001b[0m\n\u001b[0m\u001b[0;32m     28\u001b[0m     \u001b[0mvalue\u001b[0m\u001b[1;33m,\u001b[0m \u001b[0mdatetime\u001b[0m\u001b[1;33m,\u001b[0m \u001b[0mmoneyForInvesting_list\u001b[0m\u001b[1;33m,\u001b[0m \u001b[0mmoneyInStocks_list\u001b[0m\u001b[1;33m,\u001b[0m \u001b[0mstocksOwned\u001b[0m\u001b[1;33m,\u001b[0m \u001b[0mtrades_total\u001b[0m\u001b[1;33m,\u001b[0m \u001b[0mcash\u001b[0m \u001b[1;33m=\u001b[0m \u001b[0minit\u001b[0m\u001b[1;33m\u001b[0m\u001b[1;33m\u001b[0m\u001b[0m\n\u001b[0;32m     29\u001b[0m \u001b[1;33m\u001b[0m\u001b[0m\n",
      "\u001b[1;31mNameError\u001b[0m: name 'startCap' is not defined"
     ]
    }
   ],
   "source": [
    "r = sparkStructuredStreaming.realtime()\n",
    "day = date(2020,5,27)\n",
    "sandbox = True\n",
    "commission = 5\n",
    "startCap = 10000\n",
    "\n",
    "realtime(r, day, sandbox, commission, sqlContext)"
   ]
  },
  {
   "cell_type": "code",
   "execution_count": null,
   "metadata": {},
   "outputs": [],
   "source": []
  }
 ],
 "metadata": {
  "kernelspec": {
   "display_name": "Python 3",
   "language": "python",
   "name": "python3"
  },
  "language_info": {
   "codemirror_mode": {
    "name": "ipython",
    "version": 3
   },
   "file_extension": ".py",
   "mimetype": "text/x-python",
   "name": "python",
   "nbconvert_exporter": "python",
   "pygments_lexer": "ipython3",
   "version": "3.7.6"
  }
 },
 "nbformat": 4,
 "nbformat_minor": 4
}
